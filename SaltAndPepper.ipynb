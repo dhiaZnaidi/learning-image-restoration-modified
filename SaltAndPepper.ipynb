{
  "nbformat": 4,
  "nbformat_minor": 0,
  "metadata": {
    "colab": {
      "provenance": [],
      "include_colab_link": true
    },
    "kernelspec": {
      "name": "python3",
      "display_name": "Python 3"
    },
    "language_info": {
      "name": "python"
    },
    "accelerator": "GPU",
    "gpuClass": "standard"
  },
  "cells": [
    {
      "cell_type": "markdown",
      "metadata": {
        "id": "view-in-github",
        "colab_type": "text"
      },
      "source": [
        "<a href=\"https://colab.research.google.com/github/dhiaZnaidi/learning-image-restoration-modified/blob/master/SaltAndPepper.ipynb\" target=\"_parent\"><img src=\"https://colab.research.google.com/assets/colab-badge.svg\" alt=\"Open In Colab\"/></a>"
      ]
    },
    {
      "cell_type": "code",
      "execution_count": 1,
      "metadata": {
        "colab": {
          "base_uri": "https://localhost:8080/"
        },
        "id": "csDInHuwYHre",
        "outputId": "5b37d51a-1066-43b2-f3a7-4a0dafb9e9e0"
      },
      "outputs": [
        {
          "output_type": "stream",
          "name": "stdout",
          "text": [
            "Cloning into 'learning-image-restoration-modified'...\n",
            "remote: Enumerating objects: 341, done.\u001b[K\n",
            "remote: Counting objects: 100% (20/20), done.\u001b[K\n",
            "remote: Compressing objects: 100% (17/17), done.\u001b[K\n",
            "remote: Total 341 (delta 3), reused 17 (delta 3), pack-reused 321\u001b[K\n",
            "Receiving objects: 100% (341/341), 44.35 MiB | 31.67 MiB/s, done.\n",
            "Resolving deltas: 100% (4/4), done.\n"
          ]
        }
      ],
      "source": [
        "!git clone \"https://github.com/dhiaZnaidi/learning-image-restoration-modified.git\""
      ]
    },
    {
      "cell_type": "code",
      "source": [
        "%cd /content/learning-image-restoration-modified/\n"
      ],
      "metadata": {
        "colab": {
          "base_uri": "https://localhost:8080/"
        },
        "id": "ldXxVIYlYydt",
        "outputId": "c734d408-0328-4cf8-82f4-651210f9b211"
      },
      "execution_count": 2,
      "outputs": [
        {
          "output_type": "stream",
          "name": "stdout",
          "text": [
            "/content/learning-image-restoration-modified\n"
          ]
        }
      ]
    },
    {
      "cell_type": "code",
      "source": [
        "!python test.py -nf 24 -fs 5 models/joint5.pt "
      ],
      "metadata": {
        "id": "X_AQV1UqY6tz"
      },
      "execution_count": null,
      "outputs": []
    },
    {
      "cell_type": "code",
      "source": [
        "!mkdir SaltAndPepper"
      ],
      "metadata": {
        "id": "TPUPkxq-jDuL"
      },
      "execution_count": null,
      "outputs": []
    },
    {
      "cell_type": "code",
      "source": [
        "%cd /content/learning-image-restoration-modified\n",
        "!python data.py"
      ],
      "metadata": {
        "id": "IliPS-eqtiPp"
      },
      "execution_count": null,
      "outputs": []
    },
    {
      "cell_type": "code",
      "source": [
        "%cd /content/learning-image-restoration-modified/SaltAndPepper"
      ],
      "metadata": {
        "id": "y6UtCpXqjIxO",
        "colab": {
          "base_uri": "https://localhost:8080/"
        },
        "outputId": "fdf0ef17-721c-44ae-cdaf-7cf3641d21a8"
      },
      "execution_count": 3,
      "outputs": [
        {
          "output_type": "stream",
          "name": "stdout",
          "text": [
            "/content/learning-image-restoration-modified/SaltAndPepper\n"
          ]
        }
      ]
    },
    {
      "cell_type": "code",
      "source": [
        "!mkdir models"
      ],
      "metadata": {
        "id": "g7NFsWK1kPAj"
      },
      "execution_count": null,
      "outputs": []
    },
    {
      "cell_type": "code",
      "source": [
        "!python data_salty.py"
      ],
      "metadata": {
        "id": "2zcMjs7Up-he"
      },
      "execution_count": null,
      "outputs": []
    },
    {
      "cell_type": "code",
      "source": [
        "!python train_salty.py -e 15 models/sp_greedy7.pt"
      ],
      "metadata": {
        "colab": {
          "base_uri": "https://localhost:8080/"
        },
        "id": "ocdtJ85IkMBm",
        "outputId": "29b29df4-ab7b-4f80-aa34-d8088c4e771d"
      },
      "execution_count": 22,
      "outputs": [
        {
          "output_type": "stream",
          "name": "stdout",
          "text": [
            "Files already downloaded\n",
            "Files already downloaded\n",
            "Epoch 0\n",
            "Training\n",
            "100% 200/200 [00:58<00:00,  3.41it/s]\n",
            "Training loss :  0.06723997871391475\n",
            "Testing\n",
            "100% 100/100 [01:47<00:00,  1.07s/it]\n",
            "Validation loss :  0.004002930141286925\n",
            "PSNR :  24.209516485601952\n",
            "Best PSNR. Saving model\n",
            "Epoch 1\n",
            "Training\n",
            "100% 200/200 [00:58<00:00,  3.44it/s]\n",
            "Training loss :  0.04326434544287622\n",
            "Epoch 2\n",
            "Training\n",
            "100% 200/200 [00:57<00:00,  3.46it/s]\n",
            "Training loss :  0.03721759197767824\n",
            "Epoch 3\n",
            "Training\n",
            "100% 200/200 [00:57<00:00,  3.51it/s]\n",
            "Training loss :  0.03784530635457486\n",
            "Epoch 4\n",
            "Training\n",
            "100% 200/200 [00:57<00:00,  3.47it/s]\n",
            "Training loss :  0.03469816125463694\n",
            "Epoch 5\n",
            "Training\n",
            "100% 200/200 [00:57<00:00,  3.49it/s]\n",
            "Training loss :  0.032840319317765536\n",
            "Testing\n",
            "100% 100/100 [01:47<00:00,  1.07s/it]\n",
            "Validation loss :  0.003380181770771742\n",
            "PSNR :  24.96159859458079\n",
            "Best PSNR. Saving model\n",
            "Epoch 6\n",
            "Training\n",
            "100% 200/200 [00:57<00:00,  3.48it/s]\n",
            "Training loss :  0.03236952775623649\n",
            "Epoch 7\n",
            "Training\n",
            "100% 200/200 [00:57<00:00,  3.50it/s]\n",
            "Training loss :  0.02879849258810282\n",
            "Epoch 8\n",
            "Training\n",
            "100% 200/200 [00:56<00:00,  3.51it/s]\n",
            "Training loss :  0.030183701263740658\n",
            "Epoch 9\n",
            "Training\n",
            "100% 200/200 [00:57<00:00,  3.48it/s]\n",
            "Training loss :  0.02737612263299525\n",
            "Epoch 10\n",
            "Training\n",
            "100% 200/200 [00:56<00:00,  3.51it/s]\n",
            "Training loss :  0.024977421662770213\n",
            "Testing\n",
            "100% 100/100 [01:47<00:00,  1.07s/it]\n",
            "Validation loss :  0.0073774489667266605\n",
            "PSNR :  21.43649364828132\n",
            "Epoch 00003: reducing learning rate of group 0 to 1.0000e-05.\n",
            "Epoch 11\n",
            "Training\n",
            "100% 200/200 [00:57<00:00,  3.45it/s]\n",
            "Training loss :  0.017565726295579225\n",
            "Epoch 12\n",
            "Training\n",
            "100% 200/200 [00:56<00:00,  3.51it/s]\n",
            "Training loss :  0.017210203376598655\n",
            "Epoch 13\n",
            "Training\n",
            "100% 200/200 [00:57<00:00,  3.46it/s]\n",
            "Training loss :  0.016846941006369888\n",
            "Epoch 14\n",
            "Training\n",
            "100% 200/200 [00:57<00:00,  3.46it/s]\n",
            "Training loss :  0.016940946299582718\n",
            "Testing\n",
            "100% 100/100 [01:47<00:00,  1.07s/it]\n",
            "Validation loss :  0.006509387446567416\n",
            "PSNR :  21.99050693476513\n",
            "Epoch 00004: reducing learning rate of group 0 to 1.0000e-06.\n"
          ]
        }
      ]
    },
    {
      "cell_type": "code",
      "source": [
        "!python train_salty.py -fs 5 -nf 24 -e 15 models/sp_greedy5.pt"
      ],
      "metadata": {
        "id": "OAIEVsUMRYBl"
      },
      "execution_count": null,
      "outputs": []
    },
    {
      "cell_type": "code",
      "source": [
        "!python train_salty.py --epochs 15 --mode 'joint' models/sp_joint7.pt"
      ],
      "metadata": {
        "id": "ygoS-CekRHgW"
      },
      "execution_count": null,
      "outputs": []
    },
    {
      "cell_type": "code",
      "source": [
        "!python train_salty.py -fs 5 -nf 24 --epochs 15 --mode 'joint' models/sp_joint5.pt"
      ],
      "metadata": {
        "id": "T-xSJBMHRP9W"
      },
      "execution_count": null,
      "outputs": []
    },
    {
      "cell_type": "code",
      "source": [
        "!python test_salty.py models/sp_joint7.pt"
      ],
      "metadata": {
        "colab": {
          "base_uri": "https://localhost:8080/"
        },
        "id": "wqhcrGt9RQ0w",
        "outputId": "4553aad7-4a7f-4c37-aab8-b0de86065826"
      },
      "execution_count": 35,
      "outputs": [
        {
          "output_type": "stream",
          "name": "stdout",
          "text": [
            "Files already downloaded\n",
            "100% 100/100 [01:54<00:00,  1.14s/it]\n",
            "<class 'torch.Tensor'> <class 'torch.Tensor'> <class 'torch.Tensor'>\n",
            "Avrg PSNR\n",
            "1 -3.54 dB\n",
            "2 -3.26 dB\n",
            "3 -2.89 dB\n",
            "4 -13.31 dB\n",
            "5 7.52 dB\n",
            "6 -8.88 dB\n",
            "7 -4.98 dB\n",
            "8 24.09 dB\n"
          ]
        }
      ]
    },
    {
      "cell_type": "code",
      "source": [
        "!python test_salty.py  models/sp_greedy7.pt"
      ],
      "metadata": {
        "colab": {
          "base_uri": "https://localhost:8080/"
        },
        "id": "TeNm0S0WWNsV",
        "outputId": "0a586d19-22c8-46ff-f9b0-83c8a78b631c"
      },
      "execution_count": 36,
      "outputs": [
        {
          "output_type": "stream",
          "name": "stdout",
          "text": [
            "Files already downloaded\n",
            "100% 100/100 [01:52<00:00,  1.13s/it]\n",
            "<class 'torch.Tensor'> <class 'torch.Tensor'> <class 'torch.Tensor'>\n",
            "Avrg PSNR\n",
            "1 18.07 dB\n",
            "2 23.94 dB\n",
            "3 23.26 dB\n",
            "4 21.85 dB\n",
            "5 23.92 dB\n",
            "6 22.99 dB\n",
            "7 24.74 dB\n",
            "8 25.04 dB\n"
          ]
        }
      ]
    },
    {
      "cell_type": "code",
      "source": [
        "!python test_salty.py -nf 24 -fs 5 models/sp_joint5.pt"
      ],
      "metadata": {
        "colab": {
          "base_uri": "https://localhost:8080/"
        },
        "id": "8hdRssexWLt3",
        "outputId": "cfb81750-40ed-4073-ac86-28324e99e847"
      },
      "execution_count": 38,
      "outputs": [
        {
          "output_type": "stream",
          "name": "stdout",
          "text": [
            "Files already downloaded\n",
            "100% 100/100 [00:57<00:00,  1.74it/s]\n",
            "<class 'torch.Tensor'> <class 'torch.Tensor'> <class 'torch.Tensor'>\n",
            "Avrg PSNR\n",
            "1 -11.85 dB\n",
            "2 7.00 dB\n",
            "3 -5.36 dB\n",
            "4 -7.03 dB\n",
            "5 3.81 dB\n",
            "6 3.80 dB\n",
            "7 -7.12 dB\n",
            "8 25.42 dB\n"
          ]
        }
      ]
    },
    {
      "cell_type": "code",
      "source": [
        "!python test_salty.py -nf 24 -fs 5 models/sp_greedy5.pt"
      ],
      "metadata": {
        "colab": {
          "base_uri": "https://localhost:8080/"
        },
        "id": "ZgVQNsYqWYmu",
        "outputId": "46ada54e-ab08-4c99-d332-187f9fa8ccbd"
      },
      "execution_count": 39,
      "outputs": [
        {
          "output_type": "stream",
          "name": "stdout",
          "text": [
            "Files already downloaded\n",
            "100% 100/100 [00:56<00:00,  1.76it/s]\n",
            "<class 'torch.Tensor'> <class 'torch.Tensor'> <class 'torch.Tensor'>\n",
            "Avrg PSNR\n",
            "1 23.84 dB\n",
            "2 23.99 dB\n",
            "3 24.26 dB\n",
            "4 24.11 dB\n",
            "5 25.71 dB\n",
            "6 25.28 dB\n",
            "7 24.85 dB\n",
            "8 24.34 dB\n"
          ]
        }
      ]
    }
  ]
}